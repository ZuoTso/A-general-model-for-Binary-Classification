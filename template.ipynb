{
 "cells": [
  {
   "cell_type": "markdown",
   "metadata": {
    "id": "FubkCHz0COcx"
   },
   "source": [
    "## README\n",
    "\n",
    "- The **Features** of data sets 從 4~97 都有\n",
    "- Function: Select_best_model\n",
    "  = add XGBClassifier = 0.819854\n",
    "  ```python\n",
    "  # = 0.785959\n",
    "  # GridSearchCV Don't run it on Colab, it's too slow\n",
    "  # RandomForestClassifier\n",
    "  param_grid = {\n",
    "    'n_estimators': [100, 200],\n",
    "    'max_depth': [10, 20],\n",
    "    'min_samples_split': [2, 5, 10],\n",
    "    'min_samples_leaf': [1, 2, 4],\n",
    "    'max_features': ['sqrt', 'log2']\n",
    "  }\n",
    "  ```\n",
    "- 使用 KNeighborsClassifier\n",
    "  - k = 1, auc = 0.0514096\n",
    "  - k = 3, auc = 0.224457\n",
    "  - k = 5, auc = 0.149482\n",
    "  - k = 7, auc = 0.362344\n",
    "  - k = 9, auc = 0.42899\n",
    "  - k = 11, auc = 0.471535\n",
    "  - k = 13, auc = 0.524804\n",
    "  - k = 15, auc = 0.524758\n",
    "  - k = 17, auc = 0.553534\n",
    "  - k = 19, auc = 0.566106\n",
    "  - 窮舉不知道是不是好方法，public\n",
    "leaderboard 表現好，競賽最終 private leaderboard 可能不好\n",
    "- 基於 RandomForestClassifier\n",
    "  - 對於 Categorical features 的資料處理不好\n",
    "  ```python\n",
    "  # = 0.67557\n",
    "  RandomForestClassifier(n_estimators=100, random_state=42)\n",
    "  ```\n",
    "  ```python\n",
    "  # = 0.759853\n",
    "  # GridSearchCV Don't run it on Colab, it's too slow\n",
    "  param_grid = {\n",
    "    'n_estimators': [100, 200],\n",
    "    'max_depth': [10, 20],\n",
    "    'min_samples_split': [2, 5, 10],\n",
    "    'min_samples_leaf': [1, 2, 4],\n",
    "    'max_features': ['sqrt', 'log2']\n",
    "  }\n",
    "  ```\n",
    "  ```python\n",
    "  # = 0.740953\n",
    "  # GridSearchCV Don't run it on Colab, it's too slow\n",
    "  param_grid = {\n",
    "      'n_estimators': [100, 200, 300],\n",
    "      'max_depth': [10, 20, 30, None],\n",
    "      'min_samples_split': [2, 5, 10],\n",
    "      'min_samples_leaf': [1, 2, 4],\n",
    "      'max_features': ['sqrt', 'log2']\n",
    "  }\n",
    "  ```\n",
    "  ```python\n",
    "  # = 0.667257\n",
    "  # GridSearchCV Don't run it on Colab, it's too slow\n",
    "  param_grid = {\n",
    "      'n_estimators': [100, 200, 300],\n",
    "      'max_depth': [10, 20, 30, None],\n",
    "      'min_samples_split': [2, 5, 10],\n",
    "      'min_samples_leaf': [1, 2, 4],\n",
    "      'max_features': ['sqrt', 'log2', None]\n",
    "  }\n",
    "  ```\n",
    "- 使用 GradientBoostingClassifier\n",
    "  - n_estimators=100, learning_rate=0.1, max_depth=3, random_state=42, auc = 0.491197"
   ]
  },
  {
   "cell_type": "code",
   "execution_count": null,
   "metadata": {
    "colab": {
     "base_uri": "https://localhost:8080/"
    },
    "executionInfo": {
     "elapsed": 13773,
     "status": "ok",
     "timestamp": 1732862884925,
     "user": {
      "displayName": "邱聖佐 CHIU,SHENG-TSO E14106375",
      "userId": "18326543183472301228"
     },
     "user_tz": -480
    },
    "id": "LiS746--6iR2",
    "outputId": "7ba7572d-cbad-4c53-8fa4-6ccf087754d9"
   },
   "outputs": [
    {
     "name": "stdout",
     "output_type": "stream",
     "text": [
      "Requirement already satisfied: scikit-learn in /usr/local/lib/python3.10/dist-packages (1.5.2)\n",
      "Requirement already satisfied: pandas in /usr/local/lib/python3.10/dist-packages (2.2.2)\n",
      "Requirement already satisfied: numpy>=1.19.5 in /usr/local/lib/python3.10/dist-packages (from scikit-learn) (1.26.4)\n",
      "Requirement already satisfied: scipy>=1.6.0 in /usr/local/lib/python3.10/dist-packages (from scikit-learn) (1.13.1)\n",
      "Requirement already satisfied: joblib>=1.2.0 in /usr/local/lib/python3.10/dist-packages (from scikit-learn) (1.4.2)\n",
      "Requirement already satisfied: threadpoolctl>=3.1.0 in /usr/local/lib/python3.10/dist-packages (from scikit-learn) (3.5.0)\n",
      "Requirement already satisfied: python-dateutil>=2.8.2 in /usr/local/lib/python3.10/dist-packages (from pandas) (2.8.2)\n",
      "Requirement already satisfied: pytz>=2020.1 in /usr/local/lib/python3.10/dist-packages (from pandas) (2024.2)\n",
      "Requirement already satisfied: tzdata>=2022.7 in /usr/local/lib/python3.10/dist-packages (from pandas) (2024.2)\n",
      "Requirement already satisfied: six>=1.5 in /usr/local/lib/python3.10/dist-packages (from python-dateutil>=2.8.2->pandas) (1.16.0)\n"
     ]
    }
   ],
   "source": [
    "!pip install scikit-learn pandas"
   ]
  },
  {
   "cell_type": "code",
   "execution_count": null,
   "metadata": {
    "colab": {
     "base_uri": "https://localhost:8080/"
    },
    "executionInfo": {
     "elapsed": 24207,
     "status": "ok",
     "timestamp": 1732886090377,
     "user": {
      "displayName": "邱聖佐 CHIU,SHENG-TSO E14106375",
      "userId": "18326543183472301228"
     },
     "user_tz": -480
    },
    "id": "4fntawA1r8mc",
    "outputId": "96f2a27d-b2ed-4d2d-dd73-23d38ecd54ca"
   },
   "outputs": [
    {
     "name": "stdout",
     "output_type": "stream",
     "text": [
      "Mounted at /content/drive\n"
     ]
    }
   ],
   "source": [
    "# only for use google colab (drive)\n",
    "from google.colab import drive\n",
    "drive.mount('/content/drive')"
   ]
  },
  {
   "cell_type": "code",
   "execution_count": null,
   "metadata": {
    "id": "MnvlUlMepXRN"
   },
   "outputs": [],
   "source": [
    "import os\n",
    "import csv\n",
    "import pandas as pd\n",
    "import numpy as np\n",
    "import matplotlib.pyplot as plt"
   ]
  },
  {
   "cell_type": "code",
   "execution_count": null,
   "metadata": {
    "id": "rz5Au2EmpXRP"
   },
   "outputs": [],
   "source": [
    "from xgboost import XGBClassifier\n",
    "from sklearn.model_selection import train_test_split, cross_val_score, GridSearchCV\n",
    "from sklearn.neighbors import KNeighborsClassifier\n",
    "from sklearn.ensemble import RandomForestClassifier, GradientBoostingClassifier # RandomForestClassifier, GradientBoostingClassifier\n",
    "# from sklearn.metrics import accuracy_score, f1_score, precision_score\n",
    "from sklearn.metrics import roc_auc_score, confusion_matrix\n",
    "from sklearn.preprocessing import StandardScaler, LabelEncoder\n",
    "from sklearn.svm import SVC\n",
    "from sklearn.linear_model import LogisticRegression\n",
    "from sklearn.utils.class_weight import compute_class_weight"
   ]
  },
  {
   "cell_type": "markdown",
   "metadata": {
    "id": "WTOpzFIKpXRL"
   },
   "source": [
    "# Read All Dataset CSV"
   ]
  },
  {
   "cell_type": "code",
   "execution_count": null,
   "metadata": {
    "id": "_073v9LNpXRN"
   },
   "outputs": [],
   "source": [
    "dataset_names=[]\n",
    "X_trains=[]\n",
    "y_trains=[]\n",
    "X_tests=[]\n",
    "drive_path = \"./drive/MyDrive/Colab Notebooks/Competition_data\" # only for use google colab (drive)\n",
    "for folder_name in os.listdir(drive_path):           # only for use google colab (drive)\n",
    "# for folder_name in os.listdir(\"./Competition_data\"):\n",
    "  # print(folder_name)\n",
    "  dataset_names.append(folder_name)\n",
    "  # X_trains.append(pd.read_csv(f\"./Competition_data/{folder_name}/X_train.csv\",header=0))\n",
    "  # y_trains.append(pd.read_csv(f\"./Competition_data/{folder_name}/y_train.csv\",header=0))\n",
    "  # X_tests.append(pd.read_csv(f\"./Competition_data/{folder_name}/X_test.csv\",header=0))\n",
    "  X_trains.append(pd.read_csv(f\"{drive_path}/{folder_name}/X_train.csv\",header=0))  # only for use google colab (drive)\n",
    "  y_trains.append(pd.read_csv(f\"{drive_path}/{folder_name}/y_train.csv\",header=0))  # only for use google colab (drive)\n",
    "  X_tests.append(pd.read_csv(f\"{drive_path}/{folder_name}/X_test.csv\",header=0))   # only for use google colab (drive)\n",
    "# print(y_trains)"
   ]
  },
  {
   "cell_type": "markdown",
   "metadata": {
    "id": "xijC6zz3pXRO"
   },
   "source": [
    "## Data Preprocessing & Feature Engineering"
   ]
  },
  {
   "cell_type": "code",
   "execution_count": null,
   "metadata": {
    "id": "oMiRh0nvpXRO"
   },
   "outputs": [],
   "source": [
    "## your code here\n",
    "def preprocess_data(X_train, X_test):\n",
    "  \"\"\"\n",
    "  Data Preprocessing & Feature Engineering\n",
    "    a) Automatically identify numerical and categorical features\n",
    "    b) Feature Scaling\n",
    "    c) Categorical features\n",
    "  \"\"\"\n",
    "  # a\n",
    "  numeric_features = X_train.select_dtypes(include=['float64']).columns\n",
    "  categorical_features = X_train.select_dtypes(include=['int64']).columns\n",
    "\n",
    "  # b\n",
    "  scaler = StandardScaler()\n",
    "\n",
    "  if len(numeric_features) > 0:  # if numerical features\n",
    "    X_train[numeric_features] = scaler.fit_transform(X_train[numeric_features])\n",
    "    X_test[numeric_features] = scaler.transform(X_test[numeric_features])\n",
    "\n",
    "  # c\n",
    "  return X_train, X_test\n",
    "\n",
    "processed_X_trains = []\n",
    "processed_X_tests = []\n",
    "\n",
    "for i in range(len(dataset_names)):\n",
    "  X_train, X_test = X_trains[i], X_tests[i]\n",
    "  X_train, X_test = preprocess_data(X_train, X_test)\n",
    "  processed_X_trains.append(X_train)\n",
    "  processed_X_tests.append(X_test)\n"
   ]
  },
  {
   "cell_type": "code",
   "execution_count": null,
   "metadata": {
    "id": "8yDoQ7fnEAj6"
   },
   "outputs": [],
   "source": [
    "def select_best_model(X_train, y_train):\n",
    "  \"\"\"\n",
    "  Multiple models and choose the best one\n",
    "  based on AUC or cross-validation scores\n",
    "  \"\"\"\n",
    "  models = {\n",
    "    'SVM': SVC(probability=True, random_state=42),\n",
    "    'KNN': KNeighborsClassifier(),\n",
    "    'Logistic Regression': LogisticRegression(random_state=42)\n",
    "    'XGB': XGBClassifier(eval_metric='logloss', random_state=42)\n",
    "  }\n",
    "\n",
    "  best_model = None\n",
    "  best_auc = 0\n",
    "  best_model_name = \"\"\n",
    "\n",
    "  X_train_split, X_test_split, y_train_split, y_test_split = train_test_split(\n",
    "      X_train, y_train, test_size=0.2, random_state=42, stratify=y_train\n",
    "  )\n",
    "\n",
    "  for model_name, model in models.items():\n",
    "    model.fit(X_train_split, y_train_split)\n",
    "    y_pred_prob = model.predict_proba(X_test_split)[:, 1]\n",
    "    auc = roc_auc_score(y_test_split, y_pred_prob)\n",
    "\n",
    "    if auc > best_auc:\n",
    "      best_auc = auc\n",
    "      best_model = model\n",
    "      best_model_name = model_name\n",
    "\n",
    "  best_model.fit(X_train, y_train)\n",
    "  y_pred_prob = best_model.predict_proba(X_test_split)[:, 1]\n",
    "  auc = roc_auc_score(y_test_split, y_pred_prob)\n",
    "\n",
    "  return best_model, best_model_name, auc\n"
   ]
  },
  {
   "cell_type": "markdown",
   "metadata": {
    "id": "P-Yp6sKVpXRO"
   },
   "source": [
    "## train test split & build Model\n",
    "You can select an appropriate model and perform corresponding hyperparameter tuning."
   ]
  },
  {
   "cell_type": "markdown",
   "metadata": {
    "id": "Dz2dYnjm2-w4"
   },
   "source": [
    "## Main\n"
   ]
  },
  {
   "cell_type": "code",
   "execution_count": null,
   "metadata": {
    "colab": {
     "base_uri": "https://localhost:8080/",
     "height": 964
    },
    "executionInfo": {
     "elapsed": 3194591,
     "status": "error",
     "timestamp": 1732866377376,
     "user": {
      "displayName": "邱聖佐 CHIU,SHENG-TSO E14106375",
      "userId": "18326543183472301228"
     },
     "user_tz": -480
    },
    "id": "8txxZPGCpXRP",
    "outputId": "54959513-82ee-42e1-fc1a-2f2e05330ab6"
   },
   "outputs": [
    {
     "name": "stdout",
     "output_type": "stream",
     "text": [
      "Fitting 5 folds for each of 72 candidates, totalling 360 fits\n",
      "Fitting 5 folds for each of 72 candidates, totalling 360 fits\n",
      "Fitting 5 folds for each of 72 candidates, totalling 360 fits\n",
      "Fitting 5 folds for each of 72 candidates, totalling 360 fits\n",
      "Fitting 5 folds for each of 72 candidates, totalling 360 fits\n",
      "Fitting 5 folds for each of 72 candidates, totalling 360 fits\n",
      "Fitting 5 folds for each of 72 candidates, totalling 360 fits\n",
      "Fitting 5 folds for each of 72 candidates, totalling 360 fits\n",
      "Fitting 5 folds for each of 72 candidates, totalling 360 fits\n",
      "Fitting 5 folds for each of 72 candidates, totalling 360 fits\n",
      "Fitting 5 folds for each of 72 candidates, totalling 360 fits\n",
      "Fitting 5 folds for each of 72 candidates, totalling 360 fits\n",
      "Fitting 5 folds for each of 72 candidates, totalling 360 fits\n",
      "Fitting 5 folds for each of 72 candidates, totalling 360 fits\n",
      "Fitting 5 folds for each of 72 candidates, totalling 360 fits\n",
      "Fitting 5 folds for each of 72 candidates, totalling 360 fits\n",
      "Fitting 5 folds for each of 72 candidates, totalling 360 fits\n",
      "Fitting 5 folds for each of 72 candidates, totalling 360 fits\n",
      "Fitting 5 folds for each of 72 candidates, totalling 360 fits\n",
      "Fitting 5 folds for each of 72 candidates, totalling 360 fits\n",
      "Fitting 5 folds for each of 72 candidates, totalling 360 fits\n",
      "Fitting 5 folds for each of 72 candidates, totalling 360 fits\n",
      "Fitting 5 folds for each of 72 candidates, totalling 360 fits\n",
      "Fitting 5 folds for each of 72 candidates, totalling 360 fits\n",
      "Fitting 5 folds for each of 72 candidates, totalling 360 fits\n",
      "Fitting 5 folds for each of 72 candidates, totalling 360 fits\n",
      "Fitting 5 folds for each of 72 candidates, totalling 360 fits\n",
      "Fitting 5 folds for each of 72 candidates, totalling 360 fits\n",
      "Fitting 5 folds for each of 72 candidates, totalling 360 fits\n",
      "Fitting 5 folds for each of 72 candidates, totalling 360 fits\n",
      "Fitting 5 folds for each of 72 candidates, totalling 360 fits\n",
      "Fitting 5 folds for each of 72 candidates, totalling 360 fits\n",
      "Fitting 5 folds for each of 72 candidates, totalling 360 fits\n",
      "Fitting 5 folds for each of 72 candidates, totalling 360 fits\n",
      "Fitting 5 folds for each of 72 candidates, totalling 360 fits\n"
     ]
    },
    {
     "ename": "KeyboardInterrupt",
     "evalue": "",
     "output_type": "error",
     "traceback": [
      "\u001b[0;31m---------------------------------------------------------------------------\u001b[0m",
      "\u001b[0;31mKeyboardInterrupt\u001b[0m                         Traceback (most recent call last)",
      "\u001b[0;32m<ipython-input-11-08d15c052991>\u001b[0m in \u001b[0;36m<cell line: 4>\u001b[0;34m()\u001b[0m\n\u001b[1;32m     26\u001b[0m \u001b[0;34m\u001b[0m\u001b[0m\n\u001b[1;32m     27\u001b[0m   \u001b[0mgrid_search\u001b[0m \u001b[0;34m=\u001b[0m \u001b[0mGridSearchCV\u001b[0m\u001b[0;34m(\u001b[0m\u001b[0mestimator\u001b[0m\u001b[0;34m=\u001b[0m\u001b[0mrf\u001b[0m\u001b[0;34m,\u001b[0m \u001b[0mparam_grid\u001b[0m\u001b[0;34m=\u001b[0m\u001b[0mparam_grid\u001b[0m\u001b[0;34m,\u001b[0m \u001b[0mcv\u001b[0m\u001b[0;34m=\u001b[0m\u001b[0;36m5\u001b[0m\u001b[0;34m,\u001b[0m \u001b[0mn_jobs\u001b[0m\u001b[0;34m=\u001b[0m\u001b[0;34m-\u001b[0m\u001b[0;36m1\u001b[0m\u001b[0;34m,\u001b[0m \u001b[0mverbose\u001b[0m\u001b[0;34m=\u001b[0m\u001b[0;36m2\u001b[0m\u001b[0;34m)\u001b[0m\u001b[0;34m\u001b[0m\u001b[0;34m\u001b[0m\u001b[0m\n\u001b[0;32m---> 28\u001b[0;31m   \u001b[0mgrid_search\u001b[0m\u001b[0;34m.\u001b[0m\u001b[0mfit\u001b[0m\u001b[0;34m(\u001b[0m\u001b[0mtmp_X_train\u001b[0m\u001b[0;34m,\u001b[0m \u001b[0mtmp_y_train\u001b[0m\u001b[0;34m.\u001b[0m\u001b[0msqueeze\u001b[0m\u001b[0;34m(\u001b[0m\u001b[0;34m)\u001b[0m\u001b[0;34m)\u001b[0m\u001b[0;34m\u001b[0m\u001b[0;34m\u001b[0m\u001b[0m\n\u001b[0m\u001b[1;32m     29\u001b[0m \u001b[0;34m\u001b[0m\u001b[0m\n\u001b[1;32m     30\u001b[0m   \u001b[0mmodel\u001b[0m \u001b[0;34m=\u001b[0m \u001b[0mgrid_search\u001b[0m\u001b[0;34m.\u001b[0m\u001b[0mbest_estimator_\u001b[0m\u001b[0;34m\u001b[0m\u001b[0;34m\u001b[0m\u001b[0m\n",
      "\u001b[0;32m/usr/local/lib/python3.10/dist-packages/sklearn/base.py\u001b[0m in \u001b[0;36mwrapper\u001b[0;34m(estimator, *args, **kwargs)\u001b[0m\n\u001b[1;32m   1471\u001b[0m                 )\n\u001b[1;32m   1472\u001b[0m             ):\n\u001b[0;32m-> 1473\u001b[0;31m                 \u001b[0;32mreturn\u001b[0m \u001b[0mfit_method\u001b[0m\u001b[0;34m(\u001b[0m\u001b[0mestimator\u001b[0m\u001b[0;34m,\u001b[0m \u001b[0;34m*\u001b[0m\u001b[0margs\u001b[0m\u001b[0;34m,\u001b[0m \u001b[0;34m**\u001b[0m\u001b[0mkwargs\u001b[0m\u001b[0;34m)\u001b[0m\u001b[0;34m\u001b[0m\u001b[0;34m\u001b[0m\u001b[0m\n\u001b[0m\u001b[1;32m   1474\u001b[0m \u001b[0;34m\u001b[0m\u001b[0m\n\u001b[1;32m   1475\u001b[0m         \u001b[0;32mreturn\u001b[0m \u001b[0mwrapper\u001b[0m\u001b[0;34m\u001b[0m\u001b[0;34m\u001b[0m\u001b[0m\n",
      "\u001b[0;32m/usr/local/lib/python3.10/dist-packages/sklearn/model_selection/_search.py\u001b[0m in \u001b[0;36mfit\u001b[0;34m(self, X, y, **params)\u001b[0m\n\u001b[1;32m   1017\u001b[0m                 \u001b[0;32mreturn\u001b[0m \u001b[0mresults\u001b[0m\u001b[0;34m\u001b[0m\u001b[0;34m\u001b[0m\u001b[0m\n\u001b[1;32m   1018\u001b[0m \u001b[0;34m\u001b[0m\u001b[0m\n\u001b[0;32m-> 1019\u001b[0;31m             \u001b[0mself\u001b[0m\u001b[0;34m.\u001b[0m\u001b[0m_run_search\u001b[0m\u001b[0;34m(\u001b[0m\u001b[0mevaluate_candidates\u001b[0m\u001b[0;34m)\u001b[0m\u001b[0;34m\u001b[0m\u001b[0;34m\u001b[0m\u001b[0m\n\u001b[0m\u001b[1;32m   1020\u001b[0m \u001b[0;34m\u001b[0m\u001b[0m\n\u001b[1;32m   1021\u001b[0m             \u001b[0;31m# multimetric is determined here because in the case of a callable\u001b[0m\u001b[0;34m\u001b[0m\u001b[0;34m\u001b[0m\u001b[0m\n",
      "\u001b[0;32m/usr/local/lib/python3.10/dist-packages/sklearn/model_selection/_search.py\u001b[0m in \u001b[0;36m_run_search\u001b[0;34m(self, evaluate_candidates)\u001b[0m\n\u001b[1;32m   1571\u001b[0m     \u001b[0;32mdef\u001b[0m \u001b[0m_run_search\u001b[0m\u001b[0;34m(\u001b[0m\u001b[0mself\u001b[0m\u001b[0;34m,\u001b[0m \u001b[0mevaluate_candidates\u001b[0m\u001b[0;34m)\u001b[0m\u001b[0;34m:\u001b[0m\u001b[0;34m\u001b[0m\u001b[0;34m\u001b[0m\u001b[0m\n\u001b[1;32m   1572\u001b[0m         \u001b[0;34m\"\"\"Search all candidates in param_grid\"\"\"\u001b[0m\u001b[0;34m\u001b[0m\u001b[0;34m\u001b[0m\u001b[0m\n\u001b[0;32m-> 1573\u001b[0;31m         \u001b[0mevaluate_candidates\u001b[0m\u001b[0;34m(\u001b[0m\u001b[0mParameterGrid\u001b[0m\u001b[0;34m(\u001b[0m\u001b[0mself\u001b[0m\u001b[0;34m.\u001b[0m\u001b[0mparam_grid\u001b[0m\u001b[0;34m)\u001b[0m\u001b[0;34m)\u001b[0m\u001b[0;34m\u001b[0m\u001b[0;34m\u001b[0m\u001b[0m\n\u001b[0m\u001b[1;32m   1574\u001b[0m \u001b[0;34m\u001b[0m\u001b[0m\n\u001b[1;32m   1575\u001b[0m \u001b[0;34m\u001b[0m\u001b[0m\n",
      "\u001b[0;32m/usr/local/lib/python3.10/dist-packages/sklearn/model_selection/_search.py\u001b[0m in \u001b[0;36mevaluate_candidates\u001b[0;34m(candidate_params, cv, more_results)\u001b[0m\n\u001b[1;32m    963\u001b[0m                     )\n\u001b[1;32m    964\u001b[0m \u001b[0;34m\u001b[0m\u001b[0m\n\u001b[0;32m--> 965\u001b[0;31m                 out = parallel(\n\u001b[0m\u001b[1;32m    966\u001b[0m                     delayed(_fit_and_score)(\n\u001b[1;32m    967\u001b[0m                         \u001b[0mclone\u001b[0m\u001b[0;34m(\u001b[0m\u001b[0mbase_estimator\u001b[0m\u001b[0;34m)\u001b[0m\u001b[0;34m,\u001b[0m\u001b[0;34m\u001b[0m\u001b[0;34m\u001b[0m\u001b[0m\n",
      "\u001b[0;32m/usr/local/lib/python3.10/dist-packages/sklearn/utils/parallel.py\u001b[0m in \u001b[0;36m__call__\u001b[0;34m(self, iterable)\u001b[0m\n\u001b[1;32m     72\u001b[0m             \u001b[0;32mfor\u001b[0m \u001b[0mdelayed_func\u001b[0m\u001b[0;34m,\u001b[0m \u001b[0margs\u001b[0m\u001b[0;34m,\u001b[0m \u001b[0mkwargs\u001b[0m \u001b[0;32min\u001b[0m \u001b[0miterable\u001b[0m\u001b[0;34m\u001b[0m\u001b[0;34m\u001b[0m\u001b[0m\n\u001b[1;32m     73\u001b[0m         )\n\u001b[0;32m---> 74\u001b[0;31m         \u001b[0;32mreturn\u001b[0m \u001b[0msuper\u001b[0m\u001b[0;34m(\u001b[0m\u001b[0;34m)\u001b[0m\u001b[0;34m.\u001b[0m\u001b[0m__call__\u001b[0m\u001b[0;34m(\u001b[0m\u001b[0miterable_with_config\u001b[0m\u001b[0;34m)\u001b[0m\u001b[0;34m\u001b[0m\u001b[0;34m\u001b[0m\u001b[0m\n\u001b[0m\u001b[1;32m     75\u001b[0m \u001b[0;34m\u001b[0m\u001b[0m\n\u001b[1;32m     76\u001b[0m \u001b[0;34m\u001b[0m\u001b[0m\n",
      "\u001b[0;32m/usr/local/lib/python3.10/dist-packages/joblib/parallel.py\u001b[0m in \u001b[0;36m__call__\u001b[0;34m(self, iterable)\u001b[0m\n\u001b[1;32m   2005\u001b[0m         \u001b[0mnext\u001b[0m\u001b[0;34m(\u001b[0m\u001b[0moutput\u001b[0m\u001b[0;34m)\u001b[0m\u001b[0;34m\u001b[0m\u001b[0;34m\u001b[0m\u001b[0m\n\u001b[1;32m   2006\u001b[0m \u001b[0;34m\u001b[0m\u001b[0m\n\u001b[0;32m-> 2007\u001b[0;31m         \u001b[0;32mreturn\u001b[0m \u001b[0moutput\u001b[0m \u001b[0;32mif\u001b[0m \u001b[0mself\u001b[0m\u001b[0;34m.\u001b[0m\u001b[0mreturn_generator\u001b[0m \u001b[0;32melse\u001b[0m \u001b[0mlist\u001b[0m\u001b[0;34m(\u001b[0m\u001b[0moutput\u001b[0m\u001b[0;34m)\u001b[0m\u001b[0;34m\u001b[0m\u001b[0;34m\u001b[0m\u001b[0m\n\u001b[0m\u001b[1;32m   2008\u001b[0m \u001b[0;34m\u001b[0m\u001b[0m\n\u001b[1;32m   2009\u001b[0m     \u001b[0;32mdef\u001b[0m \u001b[0m__repr__\u001b[0m\u001b[0;34m(\u001b[0m\u001b[0mself\u001b[0m\u001b[0;34m)\u001b[0m\u001b[0;34m:\u001b[0m\u001b[0;34m\u001b[0m\u001b[0;34m\u001b[0m\u001b[0m\n",
      "\u001b[0;32m/usr/local/lib/python3.10/dist-packages/joblib/parallel.py\u001b[0m in \u001b[0;36m_get_outputs\u001b[0;34m(self, iterator, pre_dispatch)\u001b[0m\n\u001b[1;32m   1648\u001b[0m \u001b[0;34m\u001b[0m\u001b[0m\n\u001b[1;32m   1649\u001b[0m             \u001b[0;32mwith\u001b[0m \u001b[0mself\u001b[0m\u001b[0;34m.\u001b[0m\u001b[0m_backend\u001b[0m\u001b[0;34m.\u001b[0m\u001b[0mretrieval_context\u001b[0m\u001b[0;34m(\u001b[0m\u001b[0;34m)\u001b[0m\u001b[0;34m:\u001b[0m\u001b[0;34m\u001b[0m\u001b[0;34m\u001b[0m\u001b[0m\n\u001b[0;32m-> 1650\u001b[0;31m                 \u001b[0;32myield\u001b[0m \u001b[0;32mfrom\u001b[0m \u001b[0mself\u001b[0m\u001b[0;34m.\u001b[0m\u001b[0m_retrieve\u001b[0m\u001b[0;34m(\u001b[0m\u001b[0;34m)\u001b[0m\u001b[0;34m\u001b[0m\u001b[0;34m\u001b[0m\u001b[0m\n\u001b[0m\u001b[1;32m   1651\u001b[0m \u001b[0;34m\u001b[0m\u001b[0m\n\u001b[1;32m   1652\u001b[0m         \u001b[0;32mexcept\u001b[0m \u001b[0mGeneratorExit\u001b[0m\u001b[0;34m:\u001b[0m\u001b[0;34m\u001b[0m\u001b[0;34m\u001b[0m\u001b[0m\n",
      "\u001b[0;32m/usr/local/lib/python3.10/dist-packages/joblib/parallel.py\u001b[0m in \u001b[0;36m_retrieve\u001b[0;34m(self)\u001b[0m\n\u001b[1;32m   1760\u001b[0m                 (self._jobs[0].get_status(\n\u001b[1;32m   1761\u001b[0m                     timeout=self.timeout) == TASK_PENDING)):\n\u001b[0;32m-> 1762\u001b[0;31m                 \u001b[0mtime\u001b[0m\u001b[0;34m.\u001b[0m\u001b[0msleep\u001b[0m\u001b[0;34m(\u001b[0m\u001b[0;36m0.01\u001b[0m\u001b[0;34m)\u001b[0m\u001b[0;34m\u001b[0m\u001b[0;34m\u001b[0m\u001b[0m\n\u001b[0m\u001b[1;32m   1763\u001b[0m                 \u001b[0;32mcontinue\u001b[0m\u001b[0;34m\u001b[0m\u001b[0;34m\u001b[0m\u001b[0m\n\u001b[1;32m   1764\u001b[0m \u001b[0;34m\u001b[0m\u001b[0m\n",
      "\u001b[0;31mKeyboardInterrupt\u001b[0m: "
     ]
    }
   ],
   "source": [
    "# Main_1\n",
    "models=[]\n",
    "dataset_aucs=[]\n",
    "\n",
    "for i in range(len(dataset_names)):\n",
    "  tmp_X_train, tmp_X_test, tmp_y_train, tmp_y_test = train_test_split(processed_X_trains[i], y_trains[i], test_size=0.2, random_state=42, stratify=y_trains[i])\n",
    "  rf = RandomForestClassifier(random_state=42)\n",
    "  param_grid = {\n",
    "    'n_estimators': [100, 200],\n",
    "    'max_depth': [10, 20],\n",
    "    'min_samples_split': [2, 5, 10],\n",
    "    'min_samples_leaf': [1, 2, 4],\n",
    "    'max_features': ['sqrt', 'log2']\n",
    "  }\n",
    "\n",
    "  grid_search = GridSearchCV(estimator=rf, param_grid=param_grid, cv=5, n_jobs=-1, verbose=1)\n",
    "  grid_search.fit(tmp_X_train, tmp_y_train.squeeze())\n",
    "\n",
    "  model = grid_search.best_estimator_\n",
    "  models.append(model)\n",
    "\n",
    "  tmp_y_prob = model.predict_proba(tmp_X_test)[:, 1]\n",
    "  tmp_auc = roc_auc_score(tmp_y_test, tmp_y_prob)\n",
    "  dataset_aucs.append(tmp_auc)\n",
    "\n",
    "  # Now use select_best_model to see if there is a better model\n",
    "  best_model, best_model_name, auc = select_best_model(processed_X_trains[i], y_trains[i])\n",
    "\n",
    "  # Compare AUCs and update the model if needed\n",
    "  if auc > tmp_auc:\n",
    "    models[i] = best_model\n",
    "    dataset_aucs[i] = auc"
   ]
  },
  {
   "cell_type": "markdown",
   "metadata": {
    "id": "k7w7r6J5pXRP"
   },
   "source": [
    "## Inference Model and Save result"
   ]
  },
  {
   "cell_type": "code",
   "execution_count": null,
   "metadata": {
    "id": "DYWrcPdQpXRP"
   },
   "outputs": [],
   "source": [
    "# Main_2\n",
    "y_predicts=[]\n",
    "for i in range(len(dataset_names)):\n",
    "  y_predict_proba = models[i].predict_proba(processed_X_tests[i])[:, 1]\n",
    "  df = pd.DataFrame(y_predict_proba, columns=['y_predict_proba'])\n",
    "  y_predicts.append(df)\n",
    "\n",
    "for idx, dataset_name in enumerate(dataset_names):\n",
    "  df = y_predicts[idx]\n",
    "  # df.to_csv(f'./Competition_data/{dataset_name}/y_predict.csv', index=False,header=True)\n",
    "  df.to_csv(f'{drive_path}/{dataset_name}/y_predict.csv', index=False, header=True)  # only for use google colab (drive)"
   ]
  },
  {
   "cell_type": "code",
   "execution_count": null,
   "metadata": {
    "colab": {
     "base_uri": "https://localhost:8080/"
    },
    "executionInfo": {
     "elapsed": 2,
     "status": "ok",
     "timestamp": 1732299297206,
     "user": {
      "displayName": "邱聖佐 CHIU,SHENG-TSO E14106375",
      "userId": "18326543183472301228"
     },
     "user_tz": -480
    },
    "id": "tzgy5RKvpXRQ",
    "outputId": "35a5b8da-8e34-4910-d6d6-38f4508d609e"
   },
   "outputs": [
    {
     "name": "stdout",
     "output_type": "stream",
     "text": [
      "The fianl AUC of Dataset_18 : 1.0000\n",
      "The fianl AUC of Dataset_14 : 0.9133\n",
      "The fianl AUC of Dataset_10 : 0.7322\n",
      "The fianl AUC of Dataset_15 : 0.6621\n",
      "The fianl AUC of Dataset_12 : 0.7548\n",
      "The fianl AUC of Dataset_1 : 0.6842\n",
      "The fianl AUC of Dataset_11 : 0.7429\n",
      "The fianl AUC of Dataset_17 : 0.9407\n",
      "The fianl AUC of Dataset_16 : 0.9967\n",
      "The fianl AUC of Dataset_13 : 0.8633\n",
      "The fianl AUC of Dataset_26 : 0.7346\n",
      "The fianl AUC of Dataset_19 : 0.9890\n",
      "The fianl AUC of Dataset_25 : 0.8148\n",
      "The fianl AUC of Dataset_22 : 0.7810\n",
      "The fianl AUC of Dataset_21 : 0.8957\n",
      "The fianl AUC of Dataset_2 : 0.9967\n",
      "The fianl AUC of Dataset_23 : 0.8812\n",
      "The fianl AUC of Dataset_24 : 0.5970\n",
      "The fianl AUC of Dataset_27 : 1.0000\n",
      "The fianl AUC of Dataset_20 : 0.9061\n",
      "The fianl AUC of Dataset_30 : 0.8246\n",
      "The fianl AUC of Dataset_29 : 0.8416\n",
      "The fianl AUC of Dataset_32 : 0.8215\n",
      "The fianl AUC of Dataset_28 : 0.8444\n",
      "The fianl AUC of Dataset_3 : 0.5833\n",
      "The fianl AUC of Dataset_36 : 0.9469\n",
      "The fianl AUC of Dataset_34 : 0.8129\n",
      "The fianl AUC of Dataset_31 : 0.6667\n",
      "The fianl AUC of Dataset_33 : 1.0000\n",
      "The fianl AUC of Dataset_35 : 0.8185\n",
      "The fianl AUC of Dataset_38 : 0.7635\n",
      "The fianl AUC of Dataset_40 : 0.8185\n",
      "The fianl AUC of Dataset_39 : 0.9860\n",
      "The fianl AUC of Dataset_45 : 1.0000\n",
      "The fianl AUC of Dataset_43 : 0.8215\n",
      "The fianl AUC of Dataset_42 : 1.0000\n",
      "The fianl AUC of Dataset_4 : 0.5571\n",
      "The fianl AUC of Dataset_41 : 0.9361\n",
      "The fianl AUC of Dataset_44 : 1.0000\n",
      "The fianl AUC of Dataset_37 : 0.8318\n",
      "The fianl AUC of Dataset_5 : 0.7667\n",
      "The fianl AUC of Dataset_6 : 0.9408\n",
      "The fianl AUC of Dataset_7 : 0.9723\n",
      "The fianl AUC of Dataset_46 : 0.9841\n",
      "The fianl AUC of Dataset_8 : 0.9418\n",
      "The fianl AUC of Dataset_47 : 0.5536\n",
      "The fianl AUC of Dataset_49 : 0.9787\n",
      "The fianl AUC of Dataset_9 : 0.8750\n",
      "The fianl AUC of Dataset_48 : 0.9554\n"
     ]
    }
   ],
   "source": [
    "# The fianl AUC\n",
    "for idx, auc in enumerate(dataset_aucs):\n",
    "  print(f\"The fianl AUC of {dataset_names[idx]} : {auc:.4f}\")"
   ]
  },
  {
   "cell_type": "markdown",
   "metadata": {
    "id": "p1GK_GFVDsUM"
   },
   "source": [
    "## 好像沒什麼用的想法"
   ]
  },
  {
   "cell_type": "markdown",
   "metadata": {
    "id": "gAKnju7dzm95"
   },
   "source": [
    "### Find KNN the best k\n"
   ]
  },
  {
   "cell_type": "code",
   "execution_count": null,
   "metadata": {
    "id": "rJ2hRKhHz1fh"
   },
   "outputs": [],
   "source": [
    "best_k_values = []\n",
    "\n",
    "for i, (X, y) in enumerate(zip(X_trains, y_trains)):\n",
    "  y = y.squeeze()\n",
    "  k_values = range(1, 21)\n",
    "  cv_scores = []\n",
    "  for k in k_values:\n",
    "    knn = KNeighborsClassifier(n_neighbors=k)\n",
    "    scores = cross_val_score(knn, X, y, cv=5, scoring='accuracy')\n",
    "    cv_scores.append(scores.mean())\n",
    "\n",
    "  best_k = k_values[np.argmax(cv_scores)]\n",
    "  best_k_values.append(best_k)\n"
   ]
  },
  {
   "cell_type": "code",
   "execution_count": null,
   "metadata": {
    "colab": {
     "base_uri": "https://localhost:8080/"
    },
    "executionInfo": {
     "elapsed": 970,
     "status": "ok",
     "timestamp": 1732296975776,
     "user": {
      "displayName": "邱聖佐 CHIU,SHENG-TSO E14106375",
      "userId": "18326543183472301228"
     },
     "user_tz": -480
    },
    "id": "n7yPcOvR8dwX",
    "outputId": "d0bfedf2-5391-4b9d-bfce-c54bda1b006b"
   },
   "outputs": [
    {
     "name": "stdout",
     "output_type": "stream",
     "text": [
      "[1, 13, 12, 16, 12, 7, 4, 14, 1, 17, 6, 3, 5, 5, 4, 1, 11, 16, 12, 11, 17, 2, 10, 10, 3, 10, 18, 2, 4, 9, 15, 9, 9, 2, 10, 1, 4, 7, 1, 18, 2, 2, 3, 7, 13, 13, 3, 7, 16]\n"
     ]
    }
   ],
   "source": [
    "print(best_k_values)"
   ]
  },
  {
   "cell_type": "code",
   "execution_count": null,
   "metadata": {
    "colab": {
     "base_uri": "https://localhost:8080/"
    },
    "executionInfo": {
     "elapsed": 2524,
     "status": "ok",
     "timestamp": 1732297319472,
     "user": {
      "displayName": "邱聖佐 CHIU,SHENG-TSO E14106375",
      "userId": "18326543183472301228"
     },
     "user_tz": -480
    },
    "id": "2nCzRI3L7gML",
    "outputId": "711949ec-e453-4698-a6c3-462627fb15c2"
   },
   "outputs": [
    {
     "name": "stdout",
     "output_type": "stream",
     "text": [
      "數據集 Dataset_18 的 AUC 為: 0.7500\n",
      "數據集 Dataset_14 的 AUC 為: 0.9133\n",
      "數據集 Dataset_10 的 AUC 為: 0.7219\n",
      "數據集 Dataset_15 的 AUC 為: 0.6625\n",
      "數據集 Dataset_12 的 AUC 為: 0.7690\n",
      "數據集 Dataset_1 的 AUC 為: 0.6306\n",
      "數據集 Dataset_11 的 AUC 為: 0.3857\n",
      "數據集 Dataset_17 的 AUC 為: 0.9370\n",
      "數據集 Dataset_16 的 AUC 為: 0.9474\n",
      "數據集 Dataset_13 的 AUC 為: 0.8300\n",
      "數據集 Dataset_26 的 AUC 為: 0.7500\n",
      "數據集 Dataset_19 的 AUC 為: 0.9947\n",
      "數據集 Dataset_25 的 AUC 為: 0.8519\n",
      "數據集 Dataset_22 的 AUC 為: 0.7941\n",
      "數據集 Dataset_21 的 AUC 為: 0.8677\n",
      "數據集 Dataset_2 的 AUC 為: 0.9474\n",
      "數據集 Dataset_23 的 AUC 為: 0.8816\n",
      "數據集 Dataset_24 的 AUC 為: 0.5927\n",
      "數據集 Dataset_27 的 AUC 為: 1.0000\n",
      "數據集 Dataset_20 的 AUC 為: 0.8909\n",
      "數據集 Dataset_30 的 AUC 為: 0.8092\n",
      "數據集 Dataset_29 的 AUC 為: 0.8519\n",
      "數據集 Dataset_32 的 AUC 為: 0.7413\n",
      "數據集 Dataset_28 的 AUC 為: 0.8487\n",
      "數據集 Dataset_3 的 AUC 為: 0.5417\n",
      "數據集 Dataset_36 的 AUC 為: 0.9560\n",
      "數據集 Dataset_34 的 AUC 為: 0.8114\n",
      "數據集 Dataset_31 的 AUC 為: 0.5455\n",
      "數據集 Dataset_33 的 AUC 為: 1.0000\n",
      "數據集 Dataset_35 的 AUC 為: 0.8255\n",
      "數據集 Dataset_38 的 AUC 為: 0.7665\n",
      "數據集 Dataset_40 的 AUC 為: 0.8255\n",
      "數據集 Dataset_39 的 AUC 為: 0.9874\n",
      "數據集 Dataset_45 的 AUC 為: 1.0000\n",
      "數據集 Dataset_43 的 AUC 為: 0.7413\n",
      "數據集 Dataset_42 的 AUC 為: 1.0000\n",
      "數據集 Dataset_4 的 AUC 為: 0.5429\n",
      "數據集 Dataset_41 的 AUC 為: 0.9462\n",
      "數據集 Dataset_44 的 AUC 為: 0.9375\n",
      "數據集 Dataset_37 的 AUC 為: 0.8241\n",
      "數據集 Dataset_5 的 AUC 為: 0.7600\n",
      "數據集 Dataset_6 的 AUC 為: 0.9546\n",
      "數據集 Dataset_7 的 AUC 為: 0.8465\n",
      "數據集 Dataset_46 的 AUC 為: 0.9889\n",
      "數據集 Dataset_8 的 AUC 為: 0.9418\n",
      "數據集 Dataset_47 的 AUC 為: 0.5536\n",
      "數據集 Dataset_49 的 AUC 為: 0.9812\n",
      "數據集 Dataset_9 的 AUC 為: 0.9351\n",
      "數據集 Dataset_48 的 AUC 為: 0.9526\n"
     ]
    }
   ],
   "source": [
    "# best k\n",
    "y_predicts = []\n",
    "dataset_aucs = []\n",
    "\n",
    "for i, (X_train, y_train, X_test) in enumerate(zip(processed_X_trains, y_trains, processed_X_tests)):\n",
    "  y_train = y_train.squeeze()  # 確保 y 為一維陣列\n",
    "  best_k = best_k_values[i]\n",
    "\n",
    "  # 使用最佳 K 值訓練模型\n",
    "  knn = KNeighborsClassifier(n_neighbors=best_k)\n",
    "  knn.fit(X_train, y_train)\n",
    "\n",
    "  # 在測試數據上進行預測\n",
    "  y_pred = knn.predict(X_test)\n",
    "  y_predicts.append(pd.DataFrame(y_pred, columns=['y_predict']))\n",
    "\n",
    "  # 在測試數據上進行預測（計算概率）\n",
    "  y_pred_proba = knn.predict_proba(X_test)[:, 1]  # 獲取陽性類別的概率\n",
    "\n",
    "  # 分割測試集，計算 AUC\n",
    "  tmp_X_train, tmp_X_val, tmp_y_train, tmp_y_val = train_test_split(X_train, y_train, test_size=0.2, random_state=42)\n",
    "  knn.fit(tmp_X_train, tmp_y_train)\n",
    "  y_val_proba = knn.predict_proba(tmp_X_val)[:, 1]\n",
    "  auc = roc_auc_score(tmp_y_val, y_val_proba)\n",
    "  dataset_aucs.append(auc)"
   ]
  }
 ],
 "metadata": {
  "colab": {
   "provenance": []
  },
  "kernelspec": {
   "display_name": "Python 3",
   "name": "python3"
  },
  "language_info": {
   "codemirror_mode": {
    "name": "ipython",
    "version": 3
   },
   "file_extension": ".py",
   "mimetype": "text/x-python",
   "name": "python",
   "nbconvert_exporter": "python",
   "pygments_lexer": "ipython3",
   "version": "3.11.5"
  }
 },
 "nbformat": 4,
 "nbformat_minor": 0
}
